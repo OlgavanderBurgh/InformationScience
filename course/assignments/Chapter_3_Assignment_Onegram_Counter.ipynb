{
 "cells": [
  {
   "cell_type": "code",
   "execution_count": 23,
   "metadata": {},
   "outputs": [
    {
     "name": "stdout",
     "output_type": "stream",
     "text": [
      "[('the', 14303), ('of', 6611), ('and', 6277), ('a', 4635), ('to', 4576), ('in', 4076), ('that', 2754), ('his', 2485), ('it', 1781), ('i', 1725), ('as', 1711), ('with', 1709), ('he', 1681), ('but', 1673), ('is', 1601), ('was', 1578), ('for', 1553), ('all', 1351), ('at', 1309), ('this', 1275), ('by', 1183), ('from', 1097), ('not', 1074), ('be', 1000), ('on', 964), ('so', 883), ('you', 826), ('one', 790), ('had', 763), ('have', 759), ('or', 739), ('were', 650), ('they', 643), ('their', 619), ('some', 608), ('an', 592), ('are', 586), ('my', 575), ('like', 565), ('which', 559), ('upon', 556), ('him', 555), ('when', 551), ('whale', 530), ('into', 520), ('there', 503), ('now', 502), ('no', 486), ('what', 477), ('if', 466), ('out', 442), ('we', 441), ('more', 438), ('old', 425), ('up', 423), ('would', 417), ('been', 401), ('these', 383), ('its', 376), ('then', 373), ('over', 367), ('only', 364), ('other', 360), ('such', 359), ('will', 353), ('me', 342), ('any', 329), ('very', 312), ('though', 311), ('than', 310), ('down', 306), ('those', 304), ('great', 292), ('has', 286), ('still', 283), ('about', 281), ('most', 281), ('her', 277), ('them', 274), ('seemed', 273), ('yet', 273), ('who', 272), ('must', 272), ('two', 268), ('ye', 267), ('long', 263), ('do', 260), ('your', 258), ('before', 258), ('after', 254), ('said', 249), ('man', 242), ('white', 240), ('it,', 237), ('ahab', 235), ('little', 234), ('him,', 233), ('ship', 231), ('did', 231), ('thou', 230)]\n"
     ]
    }
   ],
   "source": [
    "import string\n",
    "from operator import itemgetter\n",
    "\n",
    "def onegrams(file):\n",
    "    with open(file, 'r', encoding='UTF-8') as corpus:\n",
    "        \n",
    "        text = corpus.read()\n",
    "        normalize = text.casefold()\n",
    "        words = normalize.split()\n",
    "        punc = string.punctuation\n",
    "        \n",
    "        cnt = {}\n",
    "        \n",
    "        for w in words:\n",
    "            if w not in punc: \n",
    "                if w in cnt:\n",
    "                    cnt[w] += 1\n",
    "                else:\n",
    "                    cnt[w] = 1\n",
    "        \n",
    "        cnt_sorted = sorted(cnt.items(), key = itemgetter(1), reverse = True) \n",
    "        \n",
    "        print(cnt_sorted[:100])\n",
    "\n",
    "onegrams('corpus.txt')"
   ]
  }
 ],
 "metadata": {
  "kernelspec": {
   "display_name": "Python 3",
   "language": "python",
   "name": "python3"
  },
  "language_info": {
   "codemirror_mode": {
    "name": "ipython",
    "version": 3
   },
   "file_extension": ".py",
   "mimetype": "text/x-python",
   "name": "python",
   "nbconvert_exporter": "python",
   "pygments_lexer": "ipython3",
   "version": "3.8.3"
  }
 },
 "nbformat": 4,
 "nbformat_minor": 4
}
